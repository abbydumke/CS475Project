{
 "cells": [
  {
   "cell_type": "code",
   "execution_count": 1,
   "metadata": {},
   "outputs": [],
   "source": [
    "import pandas as pd \n",
    "\n",
    "data = pd.read_csv('overallwait1.csv')"
   ]
  },
  {
   "cell_type": "code",
   "execution_count": 5,
   "metadata": {},
   "outputs": [],
   "source": [
    "# data['TIME_OF_DAY'] = data['TIME_OF_DAY'].apply(lambda x: int(x.split(' ')[0]"
   ]
  },
  {
   "cell_type": "code",
   "execution_count": 9,
   "metadata": {},
   "outputs": [
    {
     "data": {
      "text/html": [
       "<div>\n",
       "<style scoped>\n",
       "    .dataframe tbody tr th:only-of-type {\n",
       "        vertical-align: middle;\n",
       "    }\n",
       "\n",
       "    .dataframe tbody tr th {\n",
       "        vertical-align: top;\n",
       "    }\n",
       "\n",
       "    .dataframe thead th {\n",
       "        text-align: right;\n",
       "    }\n",
       "</style>\n",
       "<table border=\"1\" class=\"dataframe\">\n",
       "  <thead>\n",
       "    <tr style=\"text-align: right;\">\n",
       "      <th></th>\n",
       "      <th>RIDE</th>\n",
       "      <th>MONTH</th>\n",
       "      <th>TIME_OF_DAY</th>\n",
       "      <th>AVERAGE_WAIT_TIME_MIN</th>\n",
       "    </tr>\n",
       "  </thead>\n",
       "  <tbody>\n",
       "    <tr>\n",
       "      <th>0</th>\n",
       "      <td>SEVEN DWARFS MINE TRAIN</td>\n",
       "      <td>JAN</td>\n",
       "      <td>12 AM</td>\n",
       "      <td>23.145833</td>\n",
       "    </tr>\n",
       "    <tr>\n",
       "      <th>1</th>\n",
       "      <td>SEVEN DWARFS MINE TRAIN</td>\n",
       "      <td>JAN</td>\n",
       "      <td>7 AM</td>\n",
       "      <td>65.368421</td>\n",
       "    </tr>\n",
       "    <tr>\n",
       "      <th>2</th>\n",
       "      <td>SEVEN DWARFS MINE TRAIN</td>\n",
       "      <td>JAN</td>\n",
       "      <td>8 AM</td>\n",
       "      <td>68.615295</td>\n",
       "    </tr>\n",
       "    <tr>\n",
       "      <th>3</th>\n",
       "      <td>SEVEN DWARFS MINE TRAIN</td>\n",
       "      <td>JAN</td>\n",
       "      <td>9 AM</td>\n",
       "      <td>69.915966</td>\n",
       "    </tr>\n",
       "    <tr>\n",
       "      <th>4</th>\n",
       "      <td>SEVEN DWARFS MINE TRAIN</td>\n",
       "      <td>JAN</td>\n",
       "      <td>10 AM</td>\n",
       "      <td>80.889602</td>\n",
       "    </tr>\n",
       "  </tbody>\n",
       "</table>\n",
       "</div>"
      ],
      "text/plain": [
       "                      RIDE MONTH TIME_OF_DAY  AVERAGE_WAIT_TIME_MIN\n",
       "0  SEVEN DWARFS MINE TRAIN   JAN       12 AM              23.145833\n",
       "1  SEVEN DWARFS MINE TRAIN   JAN        7 AM              65.368421\n",
       "2  SEVEN DWARFS MINE TRAIN   JAN        8 AM              68.615295\n",
       "3  SEVEN DWARFS MINE TRAIN   JAN        9 AM              69.915966\n",
       "4  SEVEN DWARFS MINE TRAIN   JAN       10 AM              80.889602"
      ]
     },
     "execution_count": 9,
     "metadata": {},
     "output_type": "execute_result"
    }
   ],
   "source": [
    "data.head()"
   ]
  },
  {
   "cell_type": "code",
   "execution_count": 11,
   "metadata": {},
   "outputs": [],
   "source": [
    "boxplotdata_month = data.groupby(['RIDE', 'MONTH', 'TIME_OF_DAY']).apply(lambda x: x['AVERAGE_WAIT_TIME_MIN'].describe()).reset_index()"
   ]
  },
  {
   "cell_type": "code",
   "execution_count": 12,
   "metadata": {},
   "outputs": [],
   "source": [
    "boxplotdata_all = data.groupby(['RIDE', 'TIME_OF_DAY']).apply(lambda x: x['AVERAGE_WAIT_TIME_MIN'].describe()).reset_index()"
   ]
  },
  {
   "cell_type": "code",
   "execution_count": 33,
   "metadata": {},
   "outputs": [
    {
     "data": {
      "text/plain": [
       "0"
      ]
     },
     "execution_count": 33,
     "metadata": {},
     "output_type": "execute_result"
    }
   ],
   "source": [
    "sum(boxplotdata_all['max'] < 0)"
   ]
  },
  {
   "cell_type": "code",
   "execution_count": 37,
   "metadata": {},
   "outputs": [],
   "source": [
    "boxplotdata_all.to_csv('boxplotdata.csv')"
   ]
  }
 ],
 "metadata": {
  "kernelspec": {
   "display_name": "base",
   "language": "python",
   "name": "python3"
  },
  "language_info": {
   "codemirror_mode": {
    "name": "ipython",
    "version": 3
   },
   "file_extension": ".py",
   "mimetype": "text/x-python",
   "name": "python",
   "nbconvert_exporter": "python",
   "pygments_lexer": "ipython3",
   "version": "3.9.12"
  }
 },
 "nbformat": 4,
 "nbformat_minor": 2
}
