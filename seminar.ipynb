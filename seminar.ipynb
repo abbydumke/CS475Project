{
 "cells": [
  {
   "cell_type": "code",
   "execution_count": 1,
   "metadata": {},
   "outputs": [],
   "source": [
    "import matplotlib.pyplot as plt\n",
    "import pandas as pd\n",
    "\n",
    "# Read the CSV file\n",
    "data = pd.read_csv('/Users/abby/CSC475/overallwait.csv')\n",
    "#remove all data rows that have 12 am as the time\n",
    "data = data[data['TIME OF DAY'] != '12 AM']"
   ]
  },
  {
   "cell_type": "code",
   "execution_count": 2,
   "metadata": {},
   "outputs": [],
   "source": [
    "\n",
    "def plot_wait_time_monthly(monthly_data, rides):\n",
    "    plt.figure(figsize=(10, 6))  # Create a single figure for all rides\n",
    "    \n",
    "    for ride in rides:\n",
    "        # Filter the data based on the ride\n",
    "        ride_data = monthly_data[monthly_data['RIDE'] == ride]\n",
    "        \n",
    "        # Plot the wait time based on time of day\n",
    "        plt.plot(ride_data['HR'], ride_data['AVERAGE WAIT TIME (MIN)'], label=ride)\n",
    "        \n",
    "    plt.xlabel('Time of Day (24-hour format)')\n",
    "    plt.ylabel('Wait Time (in minutes)')\n",
    "    plt.xlim(7, 23)\n",
    "    plt.xticks(range(7, 24))\n",
    "    plt.title('Wait Time by Time of Day')\n",
    "    plt.legend()  # Add a legend to show the ride names\n",
    "    plt.show()"
   ]
  },
  {
   "cell_type": "code",
   "execution_count": 3,
   "metadata": {},
   "outputs": [],
   "source": [
    "\n",
    "#add column for park of the ride\n",
    "data['PARK'] = data['RIDE'].apply(lambda x: x.split(' ')[0])\n",
    "#if the park ride is 'SEVEN DARWFS MINE TRAIN' or 'PETER PAN'S FLIGHT' or 'BIG THUNDER MOUNTAIN' or 'SPACE MOUNTAIN' or 'JUNGLE CRUISE', then the park is 'MAGIC KINGDOM'\n",
    "data['PARK'] = data['PARK'].apply(lambda x: 'MAGIC KINGDOM' if x == 'SEVEN DARWFS MINE TRAIN' or x == \"PETER PAN'S FLIGHT\" or x == 'BIG THUNDER MOUNTAIN' or x == 'SPACE MOUNTAIN' or  x == 'JUNGLE CRUISE' else x)\n",
    "#if the park ride is 'FROZEN EVER AFTER' or 'TEST TRACK' or 'REMY\"S RATATOUILLE ADVENTURE', then the park is 'EPCOT'\n",
    "data['PARK'] = data['PARK'].apply(lambda x: 'EPCOT' if x == 'FROZEN EVER AFTER' or x == 'TEST TRACK' or x == \"REMY'S RATATOUILLE ADVENTURE\" else x)\n",
    "#if the park ride is 'RISE OF THE RESISTANCE' or 'SLINKY DOG DASH' or 'TOWER OF TERROR' or 'MICKEY MINNIE RUNAWAY RAILROAD', then the park is 'HOLLYWOOD STUDIOS'\n",
    "data['PARK'] = data['PARK'].apply(lambda x: 'HOLLYWOOD STUDIOS' if x == 'RISE OF THE RESISTANCE' or x == 'SLINKY DOG DASH' or x == 'TOWER OF TERROR' or x == 'MICKEY MINNIE RUNAWAY RAILROAD' else x)\n",
    "#if the park ride is 'AVATAR NAV'I RIVER' or 'AVATAR FLIGHT OF PASSAGE' or 'KILAMANJARO SAFARIS' or \"EXPEDITION EVEREST\", then the park is 'ANIMAL KINGDOM'\n",
    "data['PARK'] = data['PARK'].apply(lambda x: 'ANIMAL KINGDOM' if x == \"AVATAR NAV'I RIVER\" or x == 'AVATAR FLIGHT OF PASSAGE' or x == 'KILAMANJARO SAFARIS' or x == 'EXPEDITION EVEREST' else x)"
   ]
  },
  {
   "cell_type": "code",
   "execution_count": 4,
   "metadata": {},
   "outputs": [
    {
     "data": {
      "application/vnd.jupyter.widget-view+json": {
       "model_id": "5ccb7dfb1fbf459b9a5b4fb14975c7f3",
       "version_major": 2,
       "version_minor": 0
      },
      "text/plain": [
       "Button(description='JAN', style=ButtonStyle())"
      ]
     },
     "metadata": {},
     "output_type": "display_data"
    },
    {
     "data": {
      "application/vnd.jupyter.widget-view+json": {
       "model_id": "7ca21ba016a64e869fa781a6efb4c951",
       "version_major": 2,
       "version_minor": 0
      },
      "text/plain": [
       "Button(description='FEB', style=ButtonStyle())"
      ]
     },
     "metadata": {},
     "output_type": "display_data"
    },
    {
     "data": {
      "application/vnd.jupyter.widget-view+json": {
       "model_id": "900ca0a0ba4f49cf9791b793464ea5fd",
       "version_major": 2,
       "version_minor": 0
      },
      "text/plain": [
       "Button(description='MAR', style=ButtonStyle())"
      ]
     },
     "metadata": {},
     "output_type": "display_data"
    },
    {
     "data": {
      "application/vnd.jupyter.widget-view+json": {
       "model_id": "3ad8e9e426bf4e5f8f61fa79d32bc4af",
       "version_major": 2,
       "version_minor": 0
      },
      "text/plain": [
       "Button(description='APR', style=ButtonStyle())"
      ]
     },
     "metadata": {},
     "output_type": "display_data"
    },
    {
     "data": {
      "application/vnd.jupyter.widget-view+json": {
       "model_id": "f95232e16f7f4faaa739caaf4424d0ce",
       "version_major": 2,
       "version_minor": 0
      },
      "text/plain": [
       "Button(description='MAY', style=ButtonStyle())"
      ]
     },
     "metadata": {},
     "output_type": "display_data"
    },
    {
     "data": {
      "application/vnd.jupyter.widget-view+json": {
       "model_id": "a8d2bb34403e4bd29527d033ac7787f0",
       "version_major": 2,
       "version_minor": 0
      },
      "text/plain": [
       "Button(description='JUN', style=ButtonStyle())"
      ]
     },
     "metadata": {},
     "output_type": "display_data"
    },
    {
     "data": {
      "application/vnd.jupyter.widget-view+json": {
       "model_id": "d70b999355e14dbf930b5c7ed327f10b",
       "version_major": 2,
       "version_minor": 0
      },
      "text/plain": [
       "Button(description='JUL', style=ButtonStyle())"
      ]
     },
     "metadata": {},
     "output_type": "display_data"
    },
    {
     "data": {
      "application/vnd.jupyter.widget-view+json": {
       "model_id": "ebc4d550038d4c2a88e34bea9abd7663",
       "version_major": 2,
       "version_minor": 0
      },
      "text/plain": [
       "Button(description='AUG', style=ButtonStyle())"
      ]
     },
     "metadata": {},
     "output_type": "display_data"
    },
    {
     "data": {
      "application/vnd.jupyter.widget-view+json": {
       "model_id": "a41d1a0f446e490cbd0f6c81b9eed0f2",
       "version_major": 2,
       "version_minor": 0
      },
      "text/plain": [
       "Button(description='SEP', style=ButtonStyle())"
      ]
     },
     "metadata": {},
     "output_type": "display_data"
    },
    {
     "data": {
      "application/vnd.jupyter.widget-view+json": {
       "model_id": "799a9232284d41928305124f4f1344b0",
       "version_major": 2,
       "version_minor": 0
      },
      "text/plain": [
       "Button(description='OCT', style=ButtonStyle())"
      ]
     },
     "metadata": {},
     "output_type": "display_data"
    },
    {
     "data": {
      "application/vnd.jupyter.widget-view+json": {
       "model_id": "35e7a43b1407481b91c5433b5f33c423",
       "version_major": 2,
       "version_minor": 0
      },
      "text/plain": [
       "Button(description='NOV', style=ButtonStyle())"
      ]
     },
     "metadata": {},
     "output_type": "display_data"
    },
    {
     "data": {
      "application/vnd.jupyter.widget-view+json": {
       "model_id": "32f8fa35c247419cb55a659418f33531",
       "version_major": 2,
       "version_minor": 0
      },
      "text/plain": [
       "Button(description='DEC', style=ButtonStyle())"
      ]
     },
     "metadata": {},
     "output_type": "display_data"
    }
   ],
   "source": [
    "import ipywidgets as widgets\n",
    "from IPython.display import display\n",
    "\n",
    "# Create a list of months\n",
    "months = ['JAN', 'FEB', 'MAR', 'APR', 'MAY', 'JUN', 'JUL', 'AUG', 'SEP', 'OCT', 'NOV', 'DEC']\n",
    "\n",
    "# Create a button for each month\n",
    "buttons = [widgets.Button(description=month) for month in months]\n",
    "\n",
    "# Create a function to handle button click event\n",
    "def on_button_click(button):\n",
    "    # Get the month from the button description\n",
    "    month = button.description\n",
    "    month_data = data[data['MONTH'] == month]\n",
    "    month_data['HR'] = month_data['TIME OF DAY'].apply(lambda x: int(x.split(' ')[0]))\n",
    "    month_data['AM/PM'] = month_data['TIME OF DAY'].apply(lambda x: x.split(' ')[1])\n",
    "    month_data['HR'] = month_data.apply(lambda x: x['HR'] + 12 if x['AM/PM'] == 'PM' else x['HR'], axis=1)\n",
    "    month_data['HR'] = month_data.apply(lambda x: 0 if (x['HR']==12 and x['AM/PM'] == 'AM') else x['HR'], axis=1)\n",
    "    month_data = month_data.sort_values(by=['HR', 'AM/PM'])\n",
    "\n",
    "    \n",
    "    # Create a list of rides for the selected month\n",
    "    rides = data['RIDE'].unique()\n",
    "    # Create checkboxes for each ride\n",
    "    checkboxes = [widgets.Checkbox(description=ride) for ride in rides]\n",
    "    \n",
    "    # Create a submit button\n",
    "    submit_button = widgets.Button(description='Submit')\n",
    "    \n",
    "    # Create a function to handle submit button click event\n",
    "    def on_submit_button_click(submit_button):\n",
    "        # Get the selected rides\n",
    "        selected_rides = [checkbox.description for checkbox in checkboxes if checkbox.value]\n",
    "        # Plot wait time based on month and selected rides\n",
    "        plot_wait_time_monthly(month_data, selected_rides)\n",
    "    \n",
    "    # Register the submit button click event\n",
    "    submit_button.on_click(on_submit_button_click)\n",
    "    \n",
    "    # Display the checkboxes and submit button\n",
    "    display(*checkboxes, submit_button)\n",
    "\n",
    "# Register the button click events\n",
    "for button in buttons:\n",
    "    button.on_click(on_button_click)\n",
    "\n",
    "# Display the buttons\n",
    "display(*buttons)"
   ]
  },
  {
   "cell_type": "code",
   "execution_count": null,
   "metadata": {},
   "outputs": [],
   "source": []
  }
 ],
 "metadata": {
  "kernelspec": {
   "display_name": "base",
   "language": "python",
   "name": "python3"
  },
  "language_info": {
   "codemirror_mode": {
    "name": "ipython",
    "version": 3
   },
   "file_extension": ".py",
   "mimetype": "text/x-python",
   "name": "python",
   "nbconvert_exporter": "python",
   "pygments_lexer": "ipython3",
   "version": "3.9.13"
  }
 },
 "nbformat": 4,
 "nbformat_minor": 2
}
